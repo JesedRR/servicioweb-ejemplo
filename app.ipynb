{
 "cells": [
  {
   "cell_type": "code",
   "execution_count": 2,
   "metadata": {},
   "outputs": [
    {
     "name": "stdout",
     "output_type": "stream",
     "text": [
      " * Serving Flask app '__main__'\n",
      " * Debug mode: on\n"
     ]
    },
    {
     "name": "stderr",
     "output_type": "stream",
     "text": [
      "WARNING: This is a development server. Do not use it in a production deployment. Use a production WSGI server instead.\n",
      " * Running on http://127.0.0.1:5000\n",
      "Press CTRL+C to quit\n",
      " * Restarting with stat\n"
     ]
    },
    {
     "ename": "SystemExit",
     "evalue": "1",
     "output_type": "error",
     "traceback": [
      "An exception has occurred, use %tb to see the full traceback.\n",
      "\u001b[1;31mSystemExit\u001b[0m\u001b[1;31m:\u001b[0m 1\n"
     ]
    },
    {
     "name": "stderr",
     "output_type": "stream",
     "text": [
      "c:\\Users\\migue\\miniconda3\\envs\\computoParalelo\\lib\\site-packages\\IPython\\core\\interactiveshell.py:3468: UserWarning: To exit: use 'exit', 'quit', or Ctrl-D.\n",
      "  warn(\"To exit: use 'exit', 'quit', or Ctrl-D.\", stacklevel=1)\n"
     ]
    }
   ],
   "source": [
    "from flask import Flask\n",
    "\n",
    "#Iniciamos Flask, el servidor\n",
    "app = Flask(__name__)\n",
    "\n",
    "#REST API\n",
    "\n",
    "#READ\n",
    "from products import products\n",
    "\n",
    "#Creamos rutas\n",
    "@app.route('/ping')\n",
    "def ping():\n",
    "    return 'Pong'\n",
    "\n",
    "if __name__ == '__main__':\n",
    "    app.run(debug = True, port = 5000)\n",
    "    %tb"
   ]
  },
  {
   "cell_type": "code",
   "execution_count": 3,
   "metadata": {},
   "outputs": [
    {
     "ename": "SystemExit",
     "evalue": "1",
     "output_type": "error",
     "traceback": [
      "\u001b[1;31m---------------------------------------------------------------------------\u001b[0m",
      "\u001b[1;31mSystemExit\u001b[0m                                Traceback (most recent call last)",
      "Cell \u001b[1;32mIn[2], line 17\u001b[0m\n\u001b[0;32m     14\u001b[0m     \u001b[39mreturn\u001b[39;00m \u001b[39m'\u001b[39m\u001b[39mPong\u001b[39m\u001b[39m'\u001b[39m\n\u001b[0;32m     16\u001b[0m \u001b[39mif\u001b[39;00m \u001b[39m__name__\u001b[39m \u001b[39m==\u001b[39m \u001b[39m'\u001b[39m\u001b[39m__main__\u001b[39m\u001b[39m'\u001b[39m:\n\u001b[1;32m---> 17\u001b[0m     app\u001b[39m.\u001b[39;49mrun(debug \u001b[39m=\u001b[39;49m \u001b[39mTrue\u001b[39;49;00m, port \u001b[39m=\u001b[39;49m \u001b[39m5000\u001b[39;49m)\n\u001b[0;32m     18\u001b[0m     get_ipython()\u001b[39m.\u001b[39mrun_line_magic(\u001b[39m'\u001b[39m\u001b[39mtb\u001b[39m\u001b[39m'\u001b[39m, \u001b[39m'\u001b[39m\u001b[39m'\u001b[39m)\n",
      "File \u001b[1;32mc:\\Users\\migue\\miniconda3\\envs\\computoParalelo\\lib\\site-packages\\flask\\app.py:889\u001b[0m, in \u001b[0;36mFlask.run\u001b[1;34m(self, host, port, debug, load_dotenv, **options)\u001b[0m\n\u001b[0;32m    886\u001b[0m \u001b[39mfrom\u001b[39;00m \u001b[39mwerkzeug\u001b[39;00m\u001b[39m.\u001b[39;00m\u001b[39mserving\u001b[39;00m \u001b[39mimport\u001b[39;00m run_simple\n\u001b[0;32m    888\u001b[0m \u001b[39mtry\u001b[39;00m:\n\u001b[1;32m--> 889\u001b[0m     run_simple(t\u001b[39m.\u001b[39mcast(\u001b[39mstr\u001b[39m, host), port, \u001b[39mself\u001b[39m, \u001b[39m*\u001b[39m\u001b[39m*\u001b[39moptions)\n\u001b[0;32m    890\u001b[0m \u001b[39mfinally\u001b[39;00m:\n\u001b[0;32m    891\u001b[0m     \u001b[39m# reset the first request information if the development server\u001b[39;00m\n\u001b[0;32m    892\u001b[0m     \u001b[39m# reset normally.  This makes it possible to restart the server\u001b[39;00m\n\u001b[0;32m    893\u001b[0m     \u001b[39m# without reloader and that stuff from an interactive shell.\u001b[39;00m\n\u001b[0;32m    894\u001b[0m     \u001b[39mself\u001b[39m\u001b[39m.\u001b[39m_got_first_request \u001b[39m=\u001b[39m \u001b[39mFalse\u001b[39;00m\n",
      "File \u001b[1;32mc:\\Users\\migue\\miniconda3\\envs\\computoParalelo\\lib\\site-packages\\werkzeug\\serving.py:1097\u001b[0m, in \u001b[0;36mrun_simple\u001b[1;34m(hostname, port, application, use_reloader, use_debugger, use_evalex, extra_files, exclude_patterns, reloader_interval, reloader_type, threaded, processes, request_handler, static_files, passthrough_errors, ssl_context)\u001b[0m\n\u001b[0;32m   1094\u001b[0m \u001b[39mfrom\u001b[39;00m \u001b[39m.\u001b[39;00m\u001b[39m_reloader\u001b[39;00m \u001b[39mimport\u001b[39;00m run_with_reloader\n\u001b[0;32m   1096\u001b[0m \u001b[39mtry\u001b[39;00m:\n\u001b[1;32m-> 1097\u001b[0m     run_with_reloader(\n\u001b[0;32m   1098\u001b[0m         srv\u001b[39m.\u001b[39;49mserve_forever,\n\u001b[0;32m   1099\u001b[0m         extra_files\u001b[39m=\u001b[39;49mextra_files,\n\u001b[0;32m   1100\u001b[0m         exclude_patterns\u001b[39m=\u001b[39;49mexclude_patterns,\n\u001b[0;32m   1101\u001b[0m         interval\u001b[39m=\u001b[39;49mreloader_interval,\n\u001b[0;32m   1102\u001b[0m         reloader_type\u001b[39m=\u001b[39;49mreloader_type,\n\u001b[0;32m   1103\u001b[0m     )\n\u001b[0;32m   1104\u001b[0m \u001b[39mfinally\u001b[39;00m:\n\u001b[0;32m   1105\u001b[0m     srv\u001b[39m.\u001b[39mserver_close()\n",
      "File \u001b[1;32mc:\\Users\\migue\\miniconda3\\envs\\computoParalelo\\lib\\site-packages\\werkzeug\\_reloader.py:456\u001b[0m, in \u001b[0;36mrun_with_reloader\u001b[1;34m(main_func, extra_files, exclude_patterns, interval, reloader_type)\u001b[0m\n\u001b[0;32m    454\u001b[0m             reloader\u001b[39m.\u001b[39mrun()\n\u001b[0;32m    455\u001b[0m     \u001b[39melse\u001b[39;00m:\n\u001b[1;32m--> 456\u001b[0m         sys\u001b[39m.\u001b[39;49mexit(reloader\u001b[39m.\u001b[39;49mrestart_with_reloader())\n\u001b[0;32m    457\u001b[0m \u001b[39mexcept\u001b[39;00m \u001b[39mKeyboardInterrupt\u001b[39;00m:\n\u001b[0;32m    458\u001b[0m     \u001b[39mpass\u001b[39;00m\n",
      "\u001b[1;31mSystemExit\u001b[0m: 1"
     ]
    }
   ],
   "source": [
    "%tb"
   ]
  }
 ],
 "metadata": {
  "kernelspec": {
   "display_name": "computoParalelo",
   "language": "python",
   "name": "computoparalelo"
  },
  "language_info": {
   "codemirror_mode": {
    "name": "ipython",
    "version": 3
   },
   "file_extension": ".py",
   "mimetype": "text/x-python",
   "name": "python",
   "nbconvert_exporter": "python",
   "pygments_lexer": "ipython3",
   "version": "3.10.9"
  },
  "orig_nbformat": 4
 },
 "nbformat": 4,
 "nbformat_minor": 2
}
